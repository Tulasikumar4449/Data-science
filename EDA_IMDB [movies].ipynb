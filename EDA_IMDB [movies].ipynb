{
 "cells": [
  {
   "cell_type": "markdown",
   "id": "d46fd291",
   "metadata": {},
   "source": [
    "# data exploration or (Exploratory Data Analysis(EDA))"
   ]
  },
  {
   "cell_type": "code",
   "execution_count": 1,
   "id": "d709a49a",
   "metadata": {},
   "outputs": [],
   "source": [
    "import pandas as pd"
   ]
  },
  {
   "cell_type": "code",
   "execution_count": 2,
   "id": "63e327f1",
   "metadata": {},
   "outputs": [],
   "source": [
    "ds=pd.read_csv(r\"C:\\Users\\user\\Desktop\\DataSets\\IMDB Top 250 Movies.csv\")"
   ]
  },
  {
   "cell_type": "code",
   "execution_count": 3,
   "id": "420b3eab",
   "metadata": {},
   "outputs": [
    {
     "data": {
      "text/html": [
       "<div>\n",
       "<style scoped>\n",
       "    .dataframe tbody tr th:only-of-type {\n",
       "        vertical-align: middle;\n",
       "    }\n",
       "\n",
       "    .dataframe tbody tr th {\n",
       "        vertical-align: top;\n",
       "    }\n",
       "\n",
       "    .dataframe thead th {\n",
       "        text-align: right;\n",
       "    }\n",
       "</style>\n",
       "<table border=\"1\" class=\"dataframe\">\n",
       "  <thead>\n",
       "    <tr style=\"text-align: right;\">\n",
       "      <th></th>\n",
       "      <th>rank</th>\n",
       "      <th>name</th>\n",
       "      <th>year</th>\n",
       "      <th>rating</th>\n",
       "      <th>genre</th>\n",
       "      <th>certificate</th>\n",
       "      <th>run_time</th>\n",
       "      <th>tagline</th>\n",
       "      <th>budget</th>\n",
       "      <th>box_office</th>\n",
       "      <th>casts</th>\n",
       "      <th>directors</th>\n",
       "      <th>writers</th>\n",
       "    </tr>\n",
       "  </thead>\n",
       "  <tbody>\n",
       "    <tr>\n",
       "      <th>0</th>\n",
       "      <td>1</td>\n",
       "      <td>The Shawshank Redemption</td>\n",
       "      <td>1994</td>\n",
       "      <td>9.3</td>\n",
       "      <td>Drama</td>\n",
       "      <td>R</td>\n",
       "      <td>2h 22m</td>\n",
       "      <td>Fear can hold you prisoner. Hope can set you f...</td>\n",
       "      <td>25000000</td>\n",
       "      <td>28884504</td>\n",
       "      <td>Tim Robbins,Morgan Freeman,Bob Gunton,William ...</td>\n",
       "      <td>Frank Darabont</td>\n",
       "      <td>Stephen King,Frank Darabont</td>\n",
       "    </tr>\n",
       "    <tr>\n",
       "      <th>1</th>\n",
       "      <td>2</td>\n",
       "      <td>The Godfather</td>\n",
       "      <td>1972</td>\n",
       "      <td>9.2</td>\n",
       "      <td>Crime,Drama</td>\n",
       "      <td>R</td>\n",
       "      <td>2h 55m</td>\n",
       "      <td>An offer you can't refuse.</td>\n",
       "      <td>6000000</td>\n",
       "      <td>250341816</td>\n",
       "      <td>Marlon Brando,Al Pacino,James Caan,Diane Keato...</td>\n",
       "      <td>Francis Ford Coppola</td>\n",
       "      <td>Mario Puzo,Francis Ford Coppola</td>\n",
       "    </tr>\n",
       "    <tr>\n",
       "      <th>2</th>\n",
       "      <td>3</td>\n",
       "      <td>The Dark Knight</td>\n",
       "      <td>2008</td>\n",
       "      <td>9.0</td>\n",
       "      <td>Action,Crime,Drama</td>\n",
       "      <td>PG-13</td>\n",
       "      <td>2h 32m</td>\n",
       "      <td>Why So Serious?</td>\n",
       "      <td>185000000</td>\n",
       "      <td>1006234167</td>\n",
       "      <td>Christian Bale,Heath Ledger,Aaron Eckhart,Mich...</td>\n",
       "      <td>Christopher Nolan</td>\n",
       "      <td>Jonathan Nolan,Christopher Nolan,David S. Goyer</td>\n",
       "    </tr>\n",
       "    <tr>\n",
       "      <th>3</th>\n",
       "      <td>4</td>\n",
       "      <td>The Godfather Part II</td>\n",
       "      <td>1974</td>\n",
       "      <td>9.0</td>\n",
       "      <td>Crime,Drama</td>\n",
       "      <td>R</td>\n",
       "      <td>3h 22m</td>\n",
       "      <td>All the power on earth can't change destiny.</td>\n",
       "      <td>13000000</td>\n",
       "      <td>47961919</td>\n",
       "      <td>Al Pacino,Robert De Niro,Robert Duvall,Diane K...</td>\n",
       "      <td>Francis Ford Coppola</td>\n",
       "      <td>Francis Ford Coppola,Mario Puzo</td>\n",
       "    </tr>\n",
       "    <tr>\n",
       "      <th>4</th>\n",
       "      <td>5</td>\n",
       "      <td>12 Angry Men</td>\n",
       "      <td>1957</td>\n",
       "      <td>9.0</td>\n",
       "      <td>Crime,Drama</td>\n",
       "      <td>Approved</td>\n",
       "      <td>1h 36m</td>\n",
       "      <td>Life Is In Their Hands -- Death Is On Their Mi...</td>\n",
       "      <td>350000</td>\n",
       "      <td>955</td>\n",
       "      <td>Henry Fonda,Lee J. Cobb,Martin Balsam,John Fie...</td>\n",
       "      <td>Sidney Lumet</td>\n",
       "      <td>Reginald Rose</td>\n",
       "    </tr>\n",
       "  </tbody>\n",
       "</table>\n",
       "</div>"
      ],
      "text/plain": [
       "   rank                      name  year  rating               genre  \\\n",
       "0     1  The Shawshank Redemption  1994     9.3               Drama   \n",
       "1     2             The Godfather  1972     9.2         Crime,Drama   \n",
       "2     3           The Dark Knight  2008     9.0  Action,Crime,Drama   \n",
       "3     4     The Godfather Part II  1974     9.0         Crime,Drama   \n",
       "4     5              12 Angry Men  1957     9.0         Crime,Drama   \n",
       "\n",
       "  certificate run_time                                            tagline  \\\n",
       "0           R   2h 22m  Fear can hold you prisoner. Hope can set you f...   \n",
       "1           R   2h 55m                         An offer you can't refuse.   \n",
       "2       PG-13   2h 32m                                    Why So Serious?   \n",
       "3           R   3h 22m       All the power on earth can't change destiny.   \n",
       "4    Approved   1h 36m  Life Is In Their Hands -- Death Is On Their Mi...   \n",
       "\n",
       "      budget  box_office                                              casts  \\\n",
       "0   25000000    28884504  Tim Robbins,Morgan Freeman,Bob Gunton,William ...   \n",
       "1    6000000   250341816  Marlon Brando,Al Pacino,James Caan,Diane Keato...   \n",
       "2  185000000  1006234167  Christian Bale,Heath Ledger,Aaron Eckhart,Mich...   \n",
       "3   13000000    47961919  Al Pacino,Robert De Niro,Robert Duvall,Diane K...   \n",
       "4     350000         955  Henry Fonda,Lee J. Cobb,Martin Balsam,John Fie...   \n",
       "\n",
       "              directors                                          writers  \n",
       "0        Frank Darabont                      Stephen King,Frank Darabont  \n",
       "1  Francis Ford Coppola                  Mario Puzo,Francis Ford Coppola  \n",
       "2     Christopher Nolan  Jonathan Nolan,Christopher Nolan,David S. Goyer  \n",
       "3  Francis Ford Coppola                  Francis Ford Coppola,Mario Puzo  \n",
       "4          Sidney Lumet                                    Reginald Rose  "
      ]
     },
     "execution_count": 3,
     "metadata": {},
     "output_type": "execute_result"
    }
   ],
   "source": [
    "ds.head()"
   ]
  },
  {
   "cell_type": "code",
   "execution_count": 4,
   "id": "eb3bf790",
   "metadata": {},
   "outputs": [
    {
     "data": {
      "text/html": [
       "<div>\n",
       "<style scoped>\n",
       "    .dataframe tbody tr th:only-of-type {\n",
       "        vertical-align: middle;\n",
       "    }\n",
       "\n",
       "    .dataframe tbody tr th {\n",
       "        vertical-align: top;\n",
       "    }\n",
       "\n",
       "    .dataframe thead th {\n",
       "        text-align: right;\n",
       "    }\n",
       "</style>\n",
       "<table border=\"1\" class=\"dataframe\">\n",
       "  <thead>\n",
       "    <tr style=\"text-align: right;\">\n",
       "      <th></th>\n",
       "      <th>rank</th>\n",
       "      <th>name</th>\n",
       "      <th>year</th>\n",
       "      <th>rating</th>\n",
       "      <th>genre</th>\n",
       "      <th>certificate</th>\n",
       "      <th>run_time</th>\n",
       "      <th>tagline</th>\n",
       "      <th>budget</th>\n",
       "      <th>box_office</th>\n",
       "      <th>casts</th>\n",
       "      <th>directors</th>\n",
       "      <th>writers</th>\n",
       "    </tr>\n",
       "  </thead>\n",
       "  <tbody>\n",
       "    <tr>\n",
       "      <th>245</th>\n",
       "      <td>246</td>\n",
       "      <td>The Help</td>\n",
       "      <td>2011</td>\n",
       "      <td>8.1</td>\n",
       "      <td>Drama</td>\n",
       "      <td>PG-13</td>\n",
       "      <td>2h 26m</td>\n",
       "      <td>Change begins with a whisper.</td>\n",
       "      <td>25000000</td>\n",
       "      <td>216639112</td>\n",
       "      <td>Viola Davis,Emma Stone,Octavia Spencer,Bryce D...</td>\n",
       "      <td>Tate Taylor</td>\n",
       "      <td>Tate Taylor,Kathryn Stockett</td>\n",
       "    </tr>\n",
       "    <tr>\n",
       "      <th>246</th>\n",
       "      <td>247</td>\n",
       "      <td>Dersu Uzala</td>\n",
       "      <td>1975</td>\n",
       "      <td>8.2</td>\n",
       "      <td>Adventure,Biography,Drama</td>\n",
       "      <td>G</td>\n",
       "      <td>2h 22m</td>\n",
       "      <td>There is man and beast at nature's mercy. Ther...</td>\n",
       "      <td>4000000</td>\n",
       "      <td>14480</td>\n",
       "      <td>Maksim Munzuk,Yuriy Solomin,Mikhail Bychkov,Vl...</td>\n",
       "      <td>Akira Kurosawa</td>\n",
       "      <td>Akira Kurosawa,Yuriy Nagibin,Vladimir Arsenev</td>\n",
       "    </tr>\n",
       "    <tr>\n",
       "      <th>247</th>\n",
       "      <td>248</td>\n",
       "      <td>Aladdin</td>\n",
       "      <td>1992</td>\n",
       "      <td>8.0</td>\n",
       "      <td>Animation,Adventure,Comedy</td>\n",
       "      <td>G</td>\n",
       "      <td>1h 30m</td>\n",
       "      <td>Wish granted! (DVD re-release)</td>\n",
       "      <td>Not Available</td>\n",
       "      <td>Not Available</td>\n",
       "      <td>Scott Weinger,Robin Williams,Linda Larkin,Jona...</td>\n",
       "      <td>Ron Clements,John Musker</td>\n",
       "      <td>Ron Clements,John Musker,Ted Elliott</td>\n",
       "    </tr>\n",
       "    <tr>\n",
       "      <th>248</th>\n",
       "      <td>249</td>\n",
       "      <td>Gandhi</td>\n",
       "      <td>1982</td>\n",
       "      <td>8.0</td>\n",
       "      <td>Biography,Drama,History</td>\n",
       "      <td>PG</td>\n",
       "      <td>3h 11m</td>\n",
       "      <td>His Triumph Changed The World Forever.</td>\n",
       "      <td>22000000</td>\n",
       "      <td>52767889</td>\n",
       "      <td>Ben Kingsley,John Gielgud,Rohini Hattangadi,Ro...</td>\n",
       "      <td>Richard Attenborough</td>\n",
       "      <td>John Briley</td>\n",
       "    </tr>\n",
       "    <tr>\n",
       "      <th>249</th>\n",
       "      <td>250</td>\n",
       "      <td>Dances with Wolves</td>\n",
       "      <td>1990</td>\n",
       "      <td>8.0</td>\n",
       "      <td>Adventure,Drama,Western</td>\n",
       "      <td>PG-13</td>\n",
       "      <td>3h 1m</td>\n",
       "      <td>Inside everyone is a frontier waiting to be di...</td>\n",
       "      <td>22000000</td>\n",
       "      <td>424208848</td>\n",
       "      <td>Kevin Costner,Mary McDonnell,Graham Greene,Rod...</td>\n",
       "      <td>Kevin Costner</td>\n",
       "      <td>Michael Blake</td>\n",
       "    </tr>\n",
       "  </tbody>\n",
       "</table>\n",
       "</div>"
      ],
      "text/plain": [
       "     rank                name  year  rating                       genre  \\\n",
       "245   246            The Help  2011     8.1                       Drama   \n",
       "246   247         Dersu Uzala  1975     8.2   Adventure,Biography,Drama   \n",
       "247   248             Aladdin  1992     8.0  Animation,Adventure,Comedy   \n",
       "248   249              Gandhi  1982     8.0     Biography,Drama,History   \n",
       "249   250  Dances with Wolves  1990     8.0     Adventure,Drama,Western   \n",
       "\n",
       "    certificate run_time                                            tagline  \\\n",
       "245       PG-13   2h 26m                      Change begins with a whisper.   \n",
       "246           G   2h 22m  There is man and beast at nature's mercy. Ther...   \n",
       "247           G   1h 30m                     Wish granted! (DVD re-release)   \n",
       "248          PG   3h 11m             His Triumph Changed The World Forever.   \n",
       "249       PG-13    3h 1m  Inside everyone is a frontier waiting to be di...   \n",
       "\n",
       "            budget     box_office  \\\n",
       "245       25000000      216639112   \n",
       "246        4000000          14480   \n",
       "247  Not Available  Not Available   \n",
       "248       22000000       52767889   \n",
       "249       22000000      424208848   \n",
       "\n",
       "                                                 casts  \\\n",
       "245  Viola Davis,Emma Stone,Octavia Spencer,Bryce D...   \n",
       "246  Maksim Munzuk,Yuriy Solomin,Mikhail Bychkov,Vl...   \n",
       "247  Scott Weinger,Robin Williams,Linda Larkin,Jona...   \n",
       "248  Ben Kingsley,John Gielgud,Rohini Hattangadi,Ro...   \n",
       "249  Kevin Costner,Mary McDonnell,Graham Greene,Rod...   \n",
       "\n",
       "                    directors                                        writers  \n",
       "245               Tate Taylor                   Tate Taylor,Kathryn Stockett  \n",
       "246            Akira Kurosawa  Akira Kurosawa,Yuriy Nagibin,Vladimir Arsenev  \n",
       "247  Ron Clements,John Musker           Ron Clements,John Musker,Ted Elliott  \n",
       "248      Richard Attenborough                                    John Briley  \n",
       "249             Kevin Costner                                  Michael Blake  "
      ]
     },
     "execution_count": 4,
     "metadata": {},
     "output_type": "execute_result"
    }
   ],
   "source": [
    "ds.tail()"
   ]
  },
  {
   "cell_type": "code",
   "execution_count": 5,
   "id": "7f4f0cdf",
   "metadata": {},
   "outputs": [
    {
     "data": {
      "text/html": [
       "<div>\n",
       "<style scoped>\n",
       "    .dataframe tbody tr th:only-of-type {\n",
       "        vertical-align: middle;\n",
       "    }\n",
       "\n",
       "    .dataframe tbody tr th {\n",
       "        vertical-align: top;\n",
       "    }\n",
       "\n",
       "    .dataframe thead th {\n",
       "        text-align: right;\n",
       "    }\n",
       "</style>\n",
       "<table border=\"1\" class=\"dataframe\">\n",
       "  <thead>\n",
       "    <tr style=\"text-align: right;\">\n",
       "      <th></th>\n",
       "      <th>rank</th>\n",
       "      <th>name</th>\n",
       "      <th>year</th>\n",
       "      <th>rating</th>\n",
       "      <th>genre</th>\n",
       "      <th>certificate</th>\n",
       "      <th>run_time</th>\n",
       "      <th>tagline</th>\n",
       "      <th>budget</th>\n",
       "      <th>box_office</th>\n",
       "      <th>casts</th>\n",
       "      <th>directors</th>\n",
       "      <th>writers</th>\n",
       "    </tr>\n",
       "  </thead>\n",
       "  <tbody>\n",
       "    <tr>\n",
       "      <th>167</th>\n",
       "      <td>168</td>\n",
       "      <td>Prisoners</td>\n",
       "      <td>2013</td>\n",
       "      <td>8.1</td>\n",
       "      <td>Crime,Drama,Mystery</td>\n",
       "      <td>R</td>\n",
       "      <td>2h 33m</td>\n",
       "      <td>Every moment matters</td>\n",
       "      <td>46000000</td>\n",
       "      <td>122126687</td>\n",
       "      <td>Hugh Jackman,Jake Gyllenhaal,Viola Davis,Melis...</td>\n",
       "      <td>Denis Villeneuve</td>\n",
       "      <td>Aaron Guzikowski</td>\n",
       "    </tr>\n",
       "    <tr>\n",
       "      <th>49</th>\n",
       "      <td>50</td>\n",
       "      <td>Cinema Paradiso</td>\n",
       "      <td>1988</td>\n",
       "      <td>8.5</td>\n",
       "      <td>Drama,Romance</td>\n",
       "      <td>PG</td>\n",
       "      <td>2h 35m</td>\n",
       "      <td>A celebration of youth, friendship, and the ev...</td>\n",
       "      <td>5000000</td>\n",
       "      <td>13019063</td>\n",
       "      <td>Philippe Noiret,Enzo Cannavale,Antonella Attil...</td>\n",
       "      <td>Giuseppe Tornatore</td>\n",
       "      <td>Giuseppe Tornatore,Vanna Paoli</td>\n",
       "    </tr>\n",
       "    <tr>\n",
       "      <th>203</th>\n",
       "      <td>204</td>\n",
       "      <td>Jaws</td>\n",
       "      <td>1975</td>\n",
       "      <td>8.1</td>\n",
       "      <td>Adventure,Thriller</td>\n",
       "      <td>PG</td>\n",
       "      <td>2h 4m</td>\n",
       "      <td>Amity Island had everything. Clear skies. Gent...</td>\n",
       "      <td>7000000</td>\n",
       "      <td>476512065</td>\n",
       "      <td>Roy Scheider,Robert Shaw,Richard Dreyfuss,Lorr...</td>\n",
       "      <td>Steven Spielberg</td>\n",
       "      <td>Peter Benchley,Carl Gottlieb</td>\n",
       "    </tr>\n",
       "    <tr>\n",
       "      <th>166</th>\n",
       "      <td>167</td>\n",
       "      <td>Trainspotting</td>\n",
       "      <td>1996</td>\n",
       "      <td>8.1</td>\n",
       "      <td>Drama</td>\n",
       "      <td>R</td>\n",
       "      <td>1h 33m</td>\n",
       "      <td>Choose life. Choose a job. Choose a starter ho...</td>\n",
       "      <td>1500000</td>\n",
       "      <td>16767475</td>\n",
       "      <td>Ewan McGregor,Ewen Bremner,Jonny Lee Miller,Ke...</td>\n",
       "      <td>Danny Boyle</td>\n",
       "      <td>Irvine Welsh,John Hodge</td>\n",
       "    </tr>\n",
       "    <tr>\n",
       "      <th>41</th>\n",
       "      <td>42</td>\n",
       "      <td>Whiplash</td>\n",
       "      <td>2014</td>\n",
       "      <td>8.5</td>\n",
       "      <td>Drama,Music</td>\n",
       "      <td>R</td>\n",
       "      <td>1h 46m</td>\n",
       "      <td>The road to greatness can take you to the edge</td>\n",
       "      <td>3300000</td>\n",
       "      <td>49396747</td>\n",
       "      <td>Miles Teller,J.K. Simmons,Melissa Benoist,Paul...</td>\n",
       "      <td>Damien Chazelle</td>\n",
       "      <td>Damien Chazelle</td>\n",
       "    </tr>\n",
       "    <tr>\n",
       "      <th>142</th>\n",
       "      <td>143</td>\n",
       "      <td>A Beautiful Mind</td>\n",
       "      <td>2001</td>\n",
       "      <td>8.2</td>\n",
       "      <td>Biography,Drama</td>\n",
       "      <td>PG-13</td>\n",
       "      <td>2h 15m</td>\n",
       "      <td>The Only Thing Greater Than the Power of the M...</td>\n",
       "      <td>58000000</td>\n",
       "      <td>316791257</td>\n",
       "      <td>Russell Crowe,Ed Harris,Jennifer Connelly,Chri...</td>\n",
       "      <td>Ron Howard</td>\n",
       "      <td>Akiva Goldsman,Sylvia Nasar</td>\n",
       "    </tr>\n",
       "    <tr>\n",
       "      <th>155</th>\n",
       "      <td>156</td>\n",
       "      <td>Chinatown</td>\n",
       "      <td>1974</td>\n",
       "      <td>8.2</td>\n",
       "      <td>Drama,Mystery,Thriller</td>\n",
       "      <td>R</td>\n",
       "      <td>2h 10m</td>\n",
       "      <td>You get tough. You get tender. You get close t...</td>\n",
       "      <td>6000000</td>\n",
       "      <td>29225935</td>\n",
       "      <td>Jack Nicholson,Faye Dunaway,John Huston,Perry ...</td>\n",
       "      <td>Roman Polanski</td>\n",
       "      <td>Robert Towne,Roman Polanski</td>\n",
       "    </tr>\n",
       "    <tr>\n",
       "      <th>132</th>\n",
       "      <td>133</td>\n",
       "      <td>Green Book</td>\n",
       "      <td>2018</td>\n",
       "      <td>8.2</td>\n",
       "      <td>Biography,Comedy,Drama</td>\n",
       "      <td>PG-13</td>\n",
       "      <td>2h 10m</td>\n",
       "      <td>Inspired by a True Friendship</td>\n",
       "      <td>23000000</td>\n",
       "      <td>321752656</td>\n",
       "      <td>Viggo Mortensen,Mahershala Ali,Linda Cardellin...</td>\n",
       "      <td>Peter Farrelly</td>\n",
       "      <td>Nick Vallelonga,Brian Hayes Currie,Peter Farrelly</td>\n",
       "    </tr>\n",
       "    <tr>\n",
       "      <th>158</th>\n",
       "      <td>159</td>\n",
       "      <td>Gone with the Wind</td>\n",
       "      <td>1939</td>\n",
       "      <td>8.2</td>\n",
       "      <td>Drama,Romance,War</td>\n",
       "      <td>Passed</td>\n",
       "      <td>3h 58m</td>\n",
       "      <td>For the thousands who remember its unparallele...</td>\n",
       "      <td>3977000</td>\n",
       "      <td>402382193</td>\n",
       "      <td>Clark Gable,Vivien Leigh,Thomas Mitchell,Barba...</td>\n",
       "      <td>Victor Fleming,George Cukor(uncredited),Sam Wo...</td>\n",
       "      <td>Margaret Mitchell,Sidney Howard,Oliver H.P. Ga...</td>\n",
       "    </tr>\n",
       "    <tr>\n",
       "      <th>75</th>\n",
       "      <td>76</td>\n",
       "      <td>Braveheart</td>\n",
       "      <td>1995</td>\n",
       "      <td>8.4</td>\n",
       "      <td>Biography,Drama,History</td>\n",
       "      <td>R</td>\n",
       "      <td>2h 58m</td>\n",
       "      <td>The story of a man with a free soul...and with...</td>\n",
       "      <td>72000000</td>\n",
       "      <td>213216216</td>\n",
       "      <td>Mel Gibson,Sophie Marceau,Patrick McGoohan,Ang...</td>\n",
       "      <td>Mel Gibson</td>\n",
       "      <td>Randall Wallace</td>\n",
       "    </tr>\n",
       "  </tbody>\n",
       "</table>\n",
       "</div>"
      ],
      "text/plain": [
       "     rank                name  year  rating                    genre  \\\n",
       "167   168           Prisoners  2013     8.1      Crime,Drama,Mystery   \n",
       "49     50     Cinema Paradiso  1988     8.5            Drama,Romance   \n",
       "203   204                Jaws  1975     8.1       Adventure,Thriller   \n",
       "166   167       Trainspotting  1996     8.1                    Drama   \n",
       "41     42            Whiplash  2014     8.5              Drama,Music   \n",
       "142   143    A Beautiful Mind  2001     8.2          Biography,Drama   \n",
       "155   156           Chinatown  1974     8.2   Drama,Mystery,Thriller   \n",
       "132   133          Green Book  2018     8.2   Biography,Comedy,Drama   \n",
       "158   159  Gone with the Wind  1939     8.2        Drama,Romance,War   \n",
       "75     76          Braveheart  1995     8.4  Biography,Drama,History   \n",
       "\n",
       "    certificate run_time                                            tagline  \\\n",
       "167           R   2h 33m                               Every moment matters   \n",
       "49           PG   2h 35m  A celebration of youth, friendship, and the ev...   \n",
       "203          PG    2h 4m  Amity Island had everything. Clear skies. Gent...   \n",
       "166           R   1h 33m  Choose life. Choose a job. Choose a starter ho...   \n",
       "41            R   1h 46m     The road to greatness can take you to the edge   \n",
       "142       PG-13   2h 15m  The Only Thing Greater Than the Power of the M...   \n",
       "155           R   2h 10m  You get tough. You get tender. You get close t...   \n",
       "132       PG-13   2h 10m                      Inspired by a True Friendship   \n",
       "158      Passed   3h 58m  For the thousands who remember its unparallele...   \n",
       "75            R   2h 58m  The story of a man with a free soul...and with...   \n",
       "\n",
       "       budget box_office                                              casts  \\\n",
       "167  46000000  122126687  Hugh Jackman,Jake Gyllenhaal,Viola Davis,Melis...   \n",
       "49    5000000   13019063  Philippe Noiret,Enzo Cannavale,Antonella Attil...   \n",
       "203   7000000  476512065  Roy Scheider,Robert Shaw,Richard Dreyfuss,Lorr...   \n",
       "166   1500000   16767475  Ewan McGregor,Ewen Bremner,Jonny Lee Miller,Ke...   \n",
       "41    3300000   49396747  Miles Teller,J.K. Simmons,Melissa Benoist,Paul...   \n",
       "142  58000000  316791257  Russell Crowe,Ed Harris,Jennifer Connelly,Chri...   \n",
       "155   6000000   29225935  Jack Nicholson,Faye Dunaway,John Huston,Perry ...   \n",
       "132  23000000  321752656  Viggo Mortensen,Mahershala Ali,Linda Cardellin...   \n",
       "158   3977000  402382193  Clark Gable,Vivien Leigh,Thomas Mitchell,Barba...   \n",
       "75   72000000  213216216  Mel Gibson,Sophie Marceau,Patrick McGoohan,Ang...   \n",
       "\n",
       "                                             directors  \\\n",
       "167                                   Denis Villeneuve   \n",
       "49                                  Giuseppe Tornatore   \n",
       "203                                   Steven Spielberg   \n",
       "166                                        Danny Boyle   \n",
       "41                                     Damien Chazelle   \n",
       "142                                         Ron Howard   \n",
       "155                                     Roman Polanski   \n",
       "132                                     Peter Farrelly   \n",
       "158  Victor Fleming,George Cukor(uncredited),Sam Wo...   \n",
       "75                                          Mel Gibson   \n",
       "\n",
       "                                               writers  \n",
       "167                                   Aaron Guzikowski  \n",
       "49                      Giuseppe Tornatore,Vanna Paoli  \n",
       "203                       Peter Benchley,Carl Gottlieb  \n",
       "166                            Irvine Welsh,John Hodge  \n",
       "41                                     Damien Chazelle  \n",
       "142                        Akiva Goldsman,Sylvia Nasar  \n",
       "155                        Robert Towne,Roman Polanski  \n",
       "132  Nick Vallelonga,Brian Hayes Currie,Peter Farrelly  \n",
       "158  Margaret Mitchell,Sidney Howard,Oliver H.P. Ga...  \n",
       "75                                     Randall Wallace  "
      ]
     },
     "execution_count": 5,
     "metadata": {},
     "output_type": "execute_result"
    }
   ],
   "source": [
    "ds.sample(10)"
   ]
  },
  {
   "cell_type": "code",
   "execution_count": 6,
   "id": "5f128748",
   "metadata": {},
   "outputs": [
    {
     "data": {
      "text/plain": [
       "(250, 13)"
      ]
     },
     "execution_count": 6,
     "metadata": {},
     "output_type": "execute_result"
    }
   ],
   "source": [
    "ds.shape"
   ]
  },
  {
   "cell_type": "code",
   "execution_count": 7,
   "id": "d900de6b",
   "metadata": {},
   "outputs": [
    {
     "data": {
      "text/html": [
       "<div>\n",
       "<style scoped>\n",
       "    .dataframe tbody tr th:only-of-type {\n",
       "        vertical-align: middle;\n",
       "    }\n",
       "\n",
       "    .dataframe tbody tr th {\n",
       "        vertical-align: top;\n",
       "    }\n",
       "\n",
       "    .dataframe thead th {\n",
       "        text-align: right;\n",
       "    }\n",
       "</style>\n",
       "<table border=\"1\" class=\"dataframe\">\n",
       "  <thead>\n",
       "    <tr style=\"text-align: right;\">\n",
       "      <th></th>\n",
       "      <th>rank</th>\n",
       "      <th>year</th>\n",
       "      <th>rating</th>\n",
       "    </tr>\n",
       "  </thead>\n",
       "  <tbody>\n",
       "    <tr>\n",
       "      <th>count</th>\n",
       "      <td>250.000000</td>\n",
       "      <td>250.000000</td>\n",
       "      <td>250.000000</td>\n",
       "    </tr>\n",
       "    <tr>\n",
       "      <th>mean</th>\n",
       "      <td>125.500000</td>\n",
       "      <td>1986.360000</td>\n",
       "      <td>8.307200</td>\n",
       "    </tr>\n",
       "    <tr>\n",
       "      <th>std</th>\n",
       "      <td>72.312977</td>\n",
       "      <td>25.125356</td>\n",
       "      <td>0.229081</td>\n",
       "    </tr>\n",
       "    <tr>\n",
       "      <th>min</th>\n",
       "      <td>1.000000</td>\n",
       "      <td>1921.000000</td>\n",
       "      <td>8.000000</td>\n",
       "    </tr>\n",
       "    <tr>\n",
       "      <th>25%</th>\n",
       "      <td>63.250000</td>\n",
       "      <td>1966.250000</td>\n",
       "      <td>8.100000</td>\n",
       "    </tr>\n",
       "    <tr>\n",
       "      <th>50%</th>\n",
       "      <td>125.500000</td>\n",
       "      <td>1994.000000</td>\n",
       "      <td>8.200000</td>\n",
       "    </tr>\n",
       "    <tr>\n",
       "      <th>75%</th>\n",
       "      <td>187.750000</td>\n",
       "      <td>2006.000000</td>\n",
       "      <td>8.400000</td>\n",
       "    </tr>\n",
       "    <tr>\n",
       "      <th>max</th>\n",
       "      <td>250.000000</td>\n",
       "      <td>2022.000000</td>\n",
       "      <td>9.300000</td>\n",
       "    </tr>\n",
       "  </tbody>\n",
       "</table>\n",
       "</div>"
      ],
      "text/plain": [
       "             rank         year      rating\n",
       "count  250.000000   250.000000  250.000000\n",
       "mean   125.500000  1986.360000    8.307200\n",
       "std     72.312977    25.125356    0.229081\n",
       "min      1.000000  1921.000000    8.000000\n",
       "25%     63.250000  1966.250000    8.100000\n",
       "50%    125.500000  1994.000000    8.200000\n",
       "75%    187.750000  2006.000000    8.400000\n",
       "max    250.000000  2022.000000    9.300000"
      ]
     },
     "execution_count": 7,
     "metadata": {},
     "output_type": "execute_result"
    }
   ],
   "source": [
    "ds.describe()"
   ]
  },
  {
   "cell_type": "code",
   "execution_count": 8,
   "id": "732f674d",
   "metadata": {},
   "outputs": [
    {
     "data": {
      "text/plain": [
       "rank             int64\n",
       "name            object\n",
       "year             int64\n",
       "rating         float64\n",
       "genre           object\n",
       "certificate     object\n",
       "run_time        object\n",
       "tagline         object\n",
       "budget          object\n",
       "box_office      object\n",
       "casts           object\n",
       "directors       object\n",
       "writers         object\n",
       "dtype: object"
      ]
     },
     "execution_count": 8,
     "metadata": {},
     "output_type": "execute_result"
    }
   ],
   "source": [
    "ds.dtypes"
   ]
  },
  {
   "cell_type": "code",
   "execution_count": 9,
   "id": "29c763c5",
   "metadata": {},
   "outputs": [
    {
     "data": {
      "text/plain": [
       "rank           0\n",
       "name           0\n",
       "year           0\n",
       "rating         0\n",
       "genre          0\n",
       "certificate    0\n",
       "run_time       0\n",
       "tagline        0\n",
       "budget         0\n",
       "box_office     0\n",
       "casts          0\n",
       "directors      0\n",
       "writers        0\n",
       "dtype: int64"
      ]
     },
     "execution_count": 9,
     "metadata": {},
     "output_type": "execute_result"
    }
   ],
   "source": [
    "ds.isnull().sum()"
   ]
  },
  {
   "cell_type": "code",
   "execution_count": 10,
   "id": "c48908fa",
   "metadata": {},
   "outputs": [
    {
     "name": "stdout",
     "output_type": "stream",
     "text": [
      "<class 'pandas.core.frame.DataFrame'>\n",
      "RangeIndex: 250 entries, 0 to 249\n",
      "Data columns (total 13 columns):\n",
      " #   Column       Non-Null Count  Dtype  \n",
      "---  ------       --------------  -----  \n",
      " 0   rank         250 non-null    int64  \n",
      " 1   name         250 non-null    object \n",
      " 2   year         250 non-null    int64  \n",
      " 3   rating       250 non-null    float64\n",
      " 4   genre        250 non-null    object \n",
      " 5   certificate  250 non-null    object \n",
      " 6   run_time     250 non-null    object \n",
      " 7   tagline      250 non-null    object \n",
      " 8   budget       250 non-null    object \n",
      " 9   box_office   250 non-null    object \n",
      " 10  casts        250 non-null    object \n",
      " 11  directors    250 non-null    object \n",
      " 12  writers      250 non-null    object \n",
      "dtypes: float64(1), int64(2), object(10)\n",
      "memory usage: 25.5+ KB\n"
     ]
    }
   ],
   "source": [
    "ds.info()"
   ]
  },
  {
   "cell_type": "code",
   "execution_count": 11,
   "id": "9d7f932a",
   "metadata": {},
   "outputs": [
    {
     "data": {
      "text/plain": [
       "Index(['rank', 'name', 'year', 'rating', 'genre', 'certificate', 'run_time',\n",
       "       'tagline', 'budget', 'box_office', 'casts', 'directors', 'writers'],\n",
       "      dtype='object')"
      ]
     },
     "execution_count": 11,
     "metadata": {},
     "output_type": "execute_result"
    }
   ],
   "source": [
    "ds.columns"
   ]
  },
  {
   "cell_type": "code",
   "execution_count": 12,
   "id": "0788ec14",
   "metadata": {},
   "outputs": [
    {
     "data": {
      "text/plain": [
       "0      9.3\n",
       "1      9.2\n",
       "2      9.0\n",
       "3      9.0\n",
       "4      9.0\n",
       "      ... \n",
       "245    8.1\n",
       "246    8.2\n",
       "247    8.0\n",
       "248    8.0\n",
       "249    8.0\n",
       "Name: rating, Length: 250, dtype: float64"
      ]
     },
     "execution_count": 12,
     "metadata": {},
     "output_type": "execute_result"
    }
   ],
   "source": [
    "ds['rating']"
   ]
  },
  {
   "cell_type": "code",
   "execution_count": 14,
   "id": "b7ec065b",
   "metadata": {},
   "outputs": [
    {
     "data": {
      "text/plain": [
       "array([9.3, 9.2, 9. , 9. , 9. , 9. , 9. , 8.9, 8.8, 8.8, 8.8, 8.8, 8.8,\n",
       "       8.8, 8.7, 8.7, 8.7, 8.7, 8.6, 8.6, 8.6, 8.6, 8.6, 8.6, 8.6, 8.6,\n",
       "       8.6, 8.6, 8.6, 8.5, 8.6, 8.5, 8.5, 8.5, 8.5, 8.5, 8.5, 8.5, 8.5,\n",
       "       8.5, 8.5, 8.5, 8.5, 8.5, 8.6, 8.5, 8.5, 8.5, 8.5, 8.5, 8.5, 8.5,\n",
       "       8.5, 8.4, 8.4, 8.4, 8.4, 8.4, 8.4, 8.4, 8.4, 8.4, 8.4, 8.4, 8.4,\n",
       "       8.4, 8.4, 8.4, 8.4, 8.4, 8.3, 8.4, 8.4, 8.3, 8.4, 8.4, 8.4, 8.4,\n",
       "       8.4, 8.3, 8.3, 8.4, 8.4, 8.3, 8.3, 8.3, 8.4, 8.4, 8.3, 8.3, 8.3,\n",
       "       8.3, 8.4, 8.3, 8.3, 8.3, 8.3, 8.3, 8.3, 8.3, 8.3, 8.3, 8.3, 8.3,\n",
       "       8.3, 8.3, 8.3, 8.4, 8.3, 8.3, 8.3, 8.3, 8.3, 8.3, 8.3, 8.2, 8.2,\n",
       "       8.2, 8.2, 8.2, 8.3, 8.3, 8.2, 8.2, 8.3, 8.2, 8.2, 8.3, 8.2, 8.2,\n",
       "       8.2, 8.2, 8.2, 8.3, 8.2, 8.2, 8.2, 8.2, 8.2, 8.2, 8.2, 8.2, 8.2,\n",
       "       8.2, 8.2, 8.2, 8.2, 8.2, 8.2, 8.2, 8.2, 8.2, 8.2, 8.2, 8.2, 8.2,\n",
       "       8.2, 8.2, 8.2, 8.2, 8.2, 8.2, 8.2, 8.2, 8.1, 8.2, 8.1, 8.1, 8.2,\n",
       "       8.1, 8.1, 8.1, 8.1, 8.1, 8.2, 8.1, 8.1, 8.1, 8.1, 8.2, 8.1, 8.1,\n",
       "       8.1, 8.1, 8.1, 8.1, 8.1, 8.1, 8.1, 8.1, 8.1, 8.1, 8.2, 8.1, 8.2,\n",
       "       8.1, 8.1, 8.1, 8.1, 8.1, 8.1, 8.1, 8.1, 8.1, 8.1, 8.1, 8.2, 8.2,\n",
       "       8.1, 8.1, 8.1, 8.1, 8.1, 8.1, 8.1, 8.1, 8.1, 8.1, 8.1, 8.1, 8.1,\n",
       "       8.1, 8.3, 8.1, 8.1, 8.1, 8. , 8.2, 8.1, 8.1, 8.1, 8.1, 8.1, 8.8,\n",
       "       8.2, 8.1, 8.1, 8.1, 8.1, 8.1, 8.1, 8.1, 8.1, 8. , 8.1, 8.1, 8.2,\n",
       "       8. , 8. , 8. ])"
      ]
     },
     "execution_count": 14,
     "metadata": {},
     "output_type": "execute_result"
    }
   ],
   "source": [
    "ds['rating'].values"
   ]
  },
  {
   "cell_type": "code",
   "execution_count": 15,
   "id": "99e1e2ac",
   "metadata": {},
   "outputs": [
    {
     "data": {
      "text/plain": [
       "rank           250\n",
       "name           250\n",
       "year            86\n",
       "rating          13\n",
       "genre          104\n",
       "certificate     15\n",
       "run_time       102\n",
       "tagline        250\n",
       "budget         128\n",
       "box_office     221\n",
       "casts          250\n",
       "directors      160\n",
       "writers        233\n",
       "dtype: int64"
      ]
     },
     "execution_count": 15,
     "metadata": {},
     "output_type": "execute_result"
    }
   ],
   "source": [
    "ds.nunique()"
   ]
  },
  {
   "cell_type": "code",
   "execution_count": 16,
   "id": "444bcd76",
   "metadata": {},
   "outputs": [
    {
     "data": {
      "text/plain": [
       "13"
      ]
     },
     "execution_count": 16,
     "metadata": {},
     "output_type": "execute_result"
    }
   ],
   "source": [
    "ds['rating'].nunique()"
   ]
  },
  {
   "cell_type": "code",
   "execution_count": 17,
   "id": "91085168",
   "metadata": {},
   "outputs": [
    {
     "data": {
      "text/plain": [
       "array([9.3, 9.2, 9. , 8.9, 8.8, 8.7, 8.6, 8.5, 8.4, 8.3, 8.2, 8.1, 8. ])"
      ]
     },
     "execution_count": 17,
     "metadata": {},
     "output_type": "execute_result"
    }
   ],
   "source": [
    "ds['rating'].unique()"
   ]
  },
  {
   "cell_type": "code",
   "execution_count": 18,
   "id": "207fb5c8",
   "metadata": {},
   "outputs": [
    {
     "data": {
      "text/plain": [
       "8.1    68\n",
       "8.2    55\n",
       "8.3    38\n",
       "8.4    30\n",
       "8.5    22\n",
       "8.6    13\n",
       "8.8     7\n",
       "9.0     5\n",
       "8.0     5\n",
       "8.7     4\n",
       "9.3     1\n",
       "9.2     1\n",
       "8.9     1\n",
       "Name: rating, dtype: int64"
      ]
     },
     "execution_count": 18,
     "metadata": {},
     "output_type": "execute_result"
    }
   ],
   "source": [
    "ds['rating'].value_counts()"
   ]
  },
  {
   "cell_type": "code",
   "execution_count": 19,
   "id": "c7e1792f",
   "metadata": {},
   "outputs": [
    {
     "data": {
      "text/html": [
       "<div>\n",
       "<style scoped>\n",
       "    .dataframe tbody tr th:only-of-type {\n",
       "        vertical-align: middle;\n",
       "    }\n",
       "\n",
       "    .dataframe tbody tr th {\n",
       "        vertical-align: top;\n",
       "    }\n",
       "\n",
       "    .dataframe thead th {\n",
       "        text-align: right;\n",
       "    }\n",
       "</style>\n",
       "<table border=\"1\" class=\"dataframe\">\n",
       "  <thead>\n",
       "    <tr style=\"text-align: right;\">\n",
       "      <th></th>\n",
       "      <th>rank</th>\n",
       "      <th>name</th>\n",
       "      <th>year</th>\n",
       "      <th>rating</th>\n",
       "      <th>genre</th>\n",
       "      <th>certificate</th>\n",
       "      <th>run_time</th>\n",
       "      <th>tagline</th>\n",
       "      <th>budget</th>\n",
       "      <th>box_office</th>\n",
       "      <th>casts</th>\n",
       "      <th>directors</th>\n",
       "      <th>writers</th>\n",
       "    </tr>\n",
       "  </thead>\n",
       "  <tbody>\n",
       "    <tr>\n",
       "      <th>0</th>\n",
       "      <td>1</td>\n",
       "      <td>The Shawshank Redemption</td>\n",
       "      <td>1994</td>\n",
       "      <td>9.3</td>\n",
       "      <td>Drama</td>\n",
       "      <td>R</td>\n",
       "      <td>2h 22m</td>\n",
       "      <td>Fear can hold you prisoner. Hope can set you f...</td>\n",
       "      <td>25000000</td>\n",
       "      <td>28884504</td>\n",
       "      <td>Tim Robbins,Morgan Freeman,Bob Gunton,William ...</td>\n",
       "      <td>Frank Darabont</td>\n",
       "      <td>Stephen King,Frank Darabont</td>\n",
       "    </tr>\n",
       "    <tr>\n",
       "      <th>1</th>\n",
       "      <td>2</td>\n",
       "      <td>The Godfather</td>\n",
       "      <td>1972</td>\n",
       "      <td>9.2</td>\n",
       "      <td>Crime,Drama</td>\n",
       "      <td>R</td>\n",
       "      <td>2h 55m</td>\n",
       "      <td>An offer you can't refuse.</td>\n",
       "      <td>6000000</td>\n",
       "      <td>250341816</td>\n",
       "      <td>Marlon Brando,Al Pacino,James Caan,Diane Keato...</td>\n",
       "      <td>Francis Ford Coppola</td>\n",
       "      <td>Mario Puzo,Francis Ford Coppola</td>\n",
       "    </tr>\n",
       "    <tr>\n",
       "      <th>2</th>\n",
       "      <td>3</td>\n",
       "      <td>The Dark Knight</td>\n",
       "      <td>2008</td>\n",
       "      <td>9.0</td>\n",
       "      <td>Action,Crime,Drama</td>\n",
       "      <td>PG-13</td>\n",
       "      <td>2h 32m</td>\n",
       "      <td>Why So Serious?</td>\n",
       "      <td>185000000</td>\n",
       "      <td>1006234167</td>\n",
       "      <td>Christian Bale,Heath Ledger,Aaron Eckhart,Mich...</td>\n",
       "      <td>Christopher Nolan</td>\n",
       "      <td>Jonathan Nolan,Christopher Nolan,David S. Goyer</td>\n",
       "    </tr>\n",
       "    <tr>\n",
       "      <th>3</th>\n",
       "      <td>4</td>\n",
       "      <td>The Godfather Part II</td>\n",
       "      <td>1974</td>\n",
       "      <td>9.0</td>\n",
       "      <td>Crime,Drama</td>\n",
       "      <td>R</td>\n",
       "      <td>3h 22m</td>\n",
       "      <td>All the power on earth can't change destiny.</td>\n",
       "      <td>13000000</td>\n",
       "      <td>47961919</td>\n",
       "      <td>Al Pacino,Robert De Niro,Robert Duvall,Diane K...</td>\n",
       "      <td>Francis Ford Coppola</td>\n",
       "      <td>Francis Ford Coppola,Mario Puzo</td>\n",
       "    </tr>\n",
       "    <tr>\n",
       "      <th>4</th>\n",
       "      <td>5</td>\n",
       "      <td>12 Angry Men</td>\n",
       "      <td>1957</td>\n",
       "      <td>9.0</td>\n",
       "      <td>Crime,Drama</td>\n",
       "      <td>Approved</td>\n",
       "      <td>1h 36m</td>\n",
       "      <td>Life Is In Their Hands -- Death Is On Their Mi...</td>\n",
       "      <td>350000</td>\n",
       "      <td>955</td>\n",
       "      <td>Henry Fonda,Lee J. Cobb,Martin Balsam,John Fie...</td>\n",
       "      <td>Sidney Lumet</td>\n",
       "      <td>Reginald Rose</td>\n",
       "    </tr>\n",
       "  </tbody>\n",
       "</table>\n",
       "</div>"
      ],
      "text/plain": [
       "   rank                      name  year  rating               genre  \\\n",
       "0     1  The Shawshank Redemption  1994     9.3               Drama   \n",
       "1     2             The Godfather  1972     9.2         Crime,Drama   \n",
       "2     3           The Dark Knight  2008     9.0  Action,Crime,Drama   \n",
       "3     4     The Godfather Part II  1974     9.0         Crime,Drama   \n",
       "4     5              12 Angry Men  1957     9.0         Crime,Drama   \n",
       "\n",
       "  certificate run_time                                            tagline  \\\n",
       "0           R   2h 22m  Fear can hold you prisoner. Hope can set you f...   \n",
       "1           R   2h 55m                         An offer you can't refuse.   \n",
       "2       PG-13   2h 32m                                    Why So Serious?   \n",
       "3           R   3h 22m       All the power on earth can't change destiny.   \n",
       "4    Approved   1h 36m  Life Is In Their Hands -- Death Is On Their Mi...   \n",
       "\n",
       "      budget  box_office                                              casts  \\\n",
       "0   25000000    28884504  Tim Robbins,Morgan Freeman,Bob Gunton,William ...   \n",
       "1    6000000   250341816  Marlon Brando,Al Pacino,James Caan,Diane Keato...   \n",
       "2  185000000  1006234167  Christian Bale,Heath Ledger,Aaron Eckhart,Mich...   \n",
       "3   13000000    47961919  Al Pacino,Robert De Niro,Robert Duvall,Diane K...   \n",
       "4     350000         955  Henry Fonda,Lee J. Cobb,Martin Balsam,John Fie...   \n",
       "\n",
       "              directors                                          writers  \n",
       "0        Frank Darabont                      Stephen King,Frank Darabont  \n",
       "1  Francis Ford Coppola                  Mario Puzo,Francis Ford Coppola  \n",
       "2     Christopher Nolan  Jonathan Nolan,Christopher Nolan,David S. Goyer  \n",
       "3  Francis Ford Coppola                  Francis Ford Coppola,Mario Puzo  \n",
       "4          Sidney Lumet                                    Reginald Rose  "
      ]
     },
     "execution_count": 19,
     "metadata": {},
     "output_type": "execute_result"
    }
   ],
   "source": [
    "ds.head()"
   ]
  },
  {
   "cell_type": "markdown",
   "id": "d08869ce",
   "metadata": {},
   "source": [
    "relationship analysis"
   ]
  },
  {
   "cell_type": "code",
   "execution_count": 20,
   "id": "79510472",
   "metadata": {},
   "outputs": [],
   "source": [
    "import seaborn as sns\n"
   ]
  },
  {
   "cell_type": "code",
   "execution_count": 21,
   "id": "7077088c",
   "metadata": {},
   "outputs": [
    {
     "data": {
      "text/plain": [
       "<seaborn.axisgrid.FacetGrid at 0x1ba208f6af0>"
      ]
     },
     "execution_count": 21,
     "metadata": {},
     "output_type": "execute_result"
    },
    {
     "data": {
      "image/png": "[encoded data removed]",
      "text/plain": [
       "<Figure size 360x360 with 1 Axes>"
      ]
     },
     "metadata": {
      "needs_background": "light"
     },
     "output_type": "display_data"
    }
   ],
   "source": [
    "sns.catplot(y='rating',kind='box',data=ds)"
   ]
  },
  {
   "cell_type": "code",
   "execution_count": 22,
   "id": "7219c347",
   "metadata": {},
   "outputs": [
    {
     "name": "stderr",
     "output_type": "stream",
     "text": [
      "C:\\Users\\user\\anaconda3\\lib\\site-packages\\seaborn\\distributions.py:2619: FutureWarning: `distplot` is a deprecated function and will be removed in a future version. Please adapt your code to use either `displot` (a figure-level function with similar flexibility) or `histplot` (an axes-level function for histograms).\n",
      "  warnings.warn(msg, FutureWarning)\n"
     ]
    },
    {
     "data": {
      "text/plain": [
       "<AxesSubplot:xlabel='rating', ylabel='Density'>"
      ]
     },
     "execution_count": 22,
     "metadata": {},
     "output_type": "execute_result"
    },
    {
     "data": {
      "image/png": "[encoded data removed]",
      "text/plain": [
       "<Figure size 432x288 with 1 Axes>"
      ]
     },
     "metadata": {
      "needs_background": "light"
     },
     "output_type": "display_data"
    }
   ],
   "source": [
    "#histogram\n",
    "sns.distplot(ds['rating'],bins=5)"
   ]
  },
  {
   "cell_type": "code",
   "execution_count": 23,
   "id": "3390f8f0",
   "metadata": {},
   "outputs": [
    {
     "data": {
      "text/plain": [
       "<seaborn.axisgrid.FacetGrid at 0x1ba266bc3a0>"
      ]
     },
     "execution_count": 23,
     "metadata": {},
     "output_type": "execute_result"
    },
    {
     "data": {
      "image/png": "[encoded data removed]",
      "text/plain": [
       "<Figure size 360x360 with 1 Axes>"
      ]
     },
     "metadata": {
      "needs_background": "light"
     },
     "output_type": "display_data"
    }
   ],
   "source": [
    "sns.displot(ds['rating'],bins=8)"
   ]
  },
  {
   "cell_type": "code",
   "execution_count": 24,
   "id": "bb53b699",
   "metadata": {},
   "outputs": [
    {
     "data": {
      "text/plain": [
       "Index(['rank', 'name', 'year', 'rating', 'genre', 'certificate', 'run_time',\n",
       "       'tagline', 'budget', 'box_office', 'casts', 'directors', 'writers'],\n",
       "      dtype='object')"
      ]
     },
     "execution_count": 24,
     "metadata": {},
     "output_type": "execute_result"
    }
   ],
   "source": [
    "ds.columns"
   ]
  },
  {
   "cell_type": "code",
   "execution_count": 25,
   "id": "20cc3e67",
   "metadata": {},
   "outputs": [
    {
     "data": {
      "text/plain": [
       "<seaborn.axisgrid.FacetGrid at 0x1ba26bf6550>"
      ]
     },
     "execution_count": 25,
     "metadata": {},
     "output_type": "execute_result"
    },
    {
     "data": {
      "image/png": "[encoded data removed]",
      "text/plain": [
       "<Figure size 412x360 with 1 Axes>"
      ]
     },
     "metadata": {
      "needs_background": "light"
     },
     "output_type": "display_data"
    }
   ],
   "source": [
    "#scatter plot\n",
    "sns.relplot(x='rank',y='year',hue='rating',data=ds,palette='colorblind')"
   ]
  },
  {
   "cell_type": "code",
   "execution_count": 26,
   "id": "955c6562",
   "metadata": {},
   "outputs": [
    {
     "data": {
      "text/plain": [
       "<seaborn.axisgrid.PairGrid at 0x1ba26bfedf0>"
      ]
     },
     "execution_count": 26,
     "metadata": {},
     "output_type": "execute_result"
    },
    {
     "data": {
      "image/png": "[encoded data removed]",
      "text/plain": [
       "<Figure size 540x540 with 12 Axes>"
      ]
     },
     "metadata": {
      "needs_background": "light"
     },
     "output_type": "display_data"
    }
   ],
   "source": [
    "sns.pairplot(ds)"
   ]
  },
  {
   "cell_type": "markdown",
   "id": "2ac6c9bb",
   "metadata": {},
   "source": [
    "correlation matrix"
   ]
  },
  {
   "cell_type": "code",
   "execution_count": 27,
   "id": "3fbf71e8",
   "metadata": {},
   "outputs": [],
   "source": [
    "corelation=ds.corr()"
   ]
  },
  {
   "cell_type": "code",
   "execution_count": 28,
   "id": "9a527e63",
   "metadata": {},
   "outputs": [
    {
     "data": {
      "text/plain": [
       "<AxesSubplot:>"
      ]
     },
     "execution_count": 28,
     "metadata": {},
     "output_type": "execute_result"
    },
    {
     "data": {
      "image/png": "[encoded data removed]",
      "text/plain": [
       "<Figure size 432x288 with 2 Axes>"
      ]
     },
     "metadata": {
      "needs_background": "light"
     },
     "output_type": "display_data"
    }
   ],
   "source": [
    "sns.heatmap(corelation,xticklabels=corelation.columns,yticklabels=corelation.columns,annot=True)"
   ]
  },
  {
   "cell_type": "code",
   "execution_count": null,
   "id": "ab78b5d5",
   "metadata": {},
   "outputs": [],
   "source": []
  }
 ],
 "metadata": {
  "kernelspec": {
   "display_name": "Python 3 (ipykernel)",
   "language": "python",
   "name": "python3"
  },
  "language_info": {
   "codemirror_mode": {
    "name": "ipython",
    "version": 3
   },
   "file_extension": ".py",
   "mimetype": "text/x-python",
   "name": "python",
   "nbconvert_exporter": "python",
   "pygments_lexer": "ipython3",
   "version": "3.9.12"
  }
 },
 "nbformat": 4,
 "nbformat_minor": 5
}
